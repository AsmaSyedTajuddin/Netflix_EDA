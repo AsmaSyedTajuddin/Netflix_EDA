{
 "cells": [
  {
   "cell_type": "code",
   "execution_count": 15,
   "id": "824ea715-f728-432e-ba0f-6303a28cabd0",
   "metadata": {},
   "outputs": [],
   "source": [
    "import warnings\n",
    "warnings.filterwarnings('ignore')  #this will ignore the warnings.it wont display warnings in notebook\n",
    "import matplotlib.pyplot as plt\n",
    "import matplotlib \n",
    "import matplotlib as mpl\n",
    "import seaborn as sns\n",
    "import pandas as pd\n",
    "import numpy as np\n",
    "plt.style.use('fivethirtyeight') \n",
    "%matplotlib inline\n",
    "import matplotlib.pyplot as plt\n"
   ]
  },
  {
   "cell_type": "code",
   "execution_count": 17,
   "id": "c0684964-3d75-4d0a-9f54-8955e75f132e",
   "metadata": {},
   "outputs": [],
   "source": [
    "#loading the csv file\n",
    "dataset=pd.read_csv('./input/netflix_titles.csv')"
   ]
  },
  {
   "cell_type": "code",
   "execution_count": 3,
   "id": "fc121e14-9a30-418b-90ed-ddc92c2c2ba8",
   "metadata": {},
   "outputs": [
    {
     "data": {
      "text/plain": [
       "(8807, 12)"
      ]
     },
     "execution_count": 3,
     "metadata": {},
     "output_type": "execute_result"
    }
   ],
   "source": [
    "#finding the shape of the dataset rows, cloumns\n",
    "dataset.shape"
   ]
  },
  {
   "cell_type": "code",
   "execution_count": 4,
   "id": "3369d233-6cb6-41b8-8bbb-47f1573c1647",
   "metadata": {},
   "outputs": [
    {
     "data": {
      "text/plain": [
       "Index(['show_id', 'type', 'title', 'director', 'cast', 'country', 'date_added',\n",
       "       'release_year', 'rating', 'duration', 'listed_in', 'description'],\n",
       "      dtype='object')"
      ]
     },
     "execution_count": 4,
     "metadata": {},
     "output_type": "execute_result"
    }
   ],
   "source": [
    "#displaying the column names \n",
    "dataset.columns"
   ]
  },
  {
   "cell_type": "code",
   "execution_count": 5,
   "id": "8edd3daf-cd1c-4394-bc99-8fafaee7bcb8",
   "metadata": {},
   "outputs": [
    {
     "data": {
      "text/plain": [
       "show_id         8807\n",
       "type               2\n",
       "title           8807\n",
       "director        4528\n",
       "cast            7692\n",
       "country          748\n",
       "date_added      1767\n",
       "release_year      74\n",
       "rating            17\n",
       "duration         220\n",
       "listed_in        514\n",
       "description     8775\n",
       "dtype: int64"
      ]
     },
     "execution_count": 5,
     "metadata": {},
     "output_type": "execute_result"
    }
   ],
   "source": [
    "#finding the unique values\n",
    "dataset.nunique()"
   ]
  },
  {
   "cell_type": "code",
   "execution_count": 6,
   "id": "af1e1591-fe4b-43a1-b391-81bd93b9e74a",
   "metadata": {},
   "outputs": [
    {
     "data": {
      "text/html": [
       "<div>\n",
       "<style scoped>\n",
       "    .dataframe tbody tr th:only-of-type {\n",
       "        vertical-align: middle;\n",
       "    }\n",
       "\n",
       "    .dataframe tbody tr th {\n",
       "        vertical-align: top;\n",
       "    }\n",
       "\n",
       "    .dataframe thead th {\n",
       "        text-align: right;\n",
       "    }\n",
       "</style>\n",
       "<table border=\"1\" class=\"dataframe\">\n",
       "  <thead>\n",
       "    <tr style=\"text-align: right;\">\n",
       "      <th></th>\n",
       "      <th>release_year</th>\n",
       "    </tr>\n",
       "  </thead>\n",
       "  <tbody>\n",
       "    <tr>\n",
       "      <th>count</th>\n",
       "      <td>8807.000000</td>\n",
       "    </tr>\n",
       "    <tr>\n",
       "      <th>mean</th>\n",
       "      <td>2014.180198</td>\n",
       "    </tr>\n",
       "    <tr>\n",
       "      <th>std</th>\n",
       "      <td>8.819312</td>\n",
       "    </tr>\n",
       "    <tr>\n",
       "      <th>min</th>\n",
       "      <td>1925.000000</td>\n",
       "    </tr>\n",
       "    <tr>\n",
       "      <th>25%</th>\n",
       "      <td>2013.000000</td>\n",
       "    </tr>\n",
       "    <tr>\n",
       "      <th>50%</th>\n",
       "      <td>2017.000000</td>\n",
       "    </tr>\n",
       "    <tr>\n",
       "      <th>75%</th>\n",
       "      <td>2019.000000</td>\n",
       "    </tr>\n",
       "    <tr>\n",
       "      <th>max</th>\n",
       "      <td>2021.000000</td>\n",
       "    </tr>\n",
       "  </tbody>\n",
       "</table>\n",
       "</div>"
      ],
      "text/plain": [
       "       release_year\n",
       "count   8807.000000\n",
       "mean    2014.180198\n",
       "std        8.819312\n",
       "min     1925.000000\n",
       "25%     2013.000000\n",
       "50%     2017.000000\n",
       "75%     2019.000000\n",
       "max     2021.000000"
      ]
     },
     "execution_count": 6,
     "metadata": {},
     "output_type": "execute_result"
    }
   ],
   "source": [
    "#statistics\n",
    "dataset.describe()"
   ]
  },
  {
   "cell_type": "code",
   "execution_count": 7,
   "id": "826e4a60-a576-4fe2-a96c-ba2d20af476d",
   "metadata": {},
   "outputs": [
    {
     "data": {
      "text/plain": [
       "show_id            0\n",
       "type               0\n",
       "title              0\n",
       "director        2634\n",
       "cast             825\n",
       "country          831\n",
       "date_added        10\n",
       "release_year       0\n",
       "rating             4\n",
       "duration           3\n",
       "listed_in          0\n",
       "description        0\n",
       "dtype: int64"
      ]
     },
     "execution_count": 7,
     "metadata": {},
     "output_type": "execute_result"
    }
   ],
   "source": [
    "#cleaning the data\n",
    "#to check whether null values are present\n",
    "dataset.isnull().sum()"
   ]
  },
  {
   "cell_type": "code",
   "execution_count": 8,
   "id": "f1a476b0-8269-4034-bb2d-8a30cb58b176",
   "metadata": {},
   "outputs": [
    {
     "data": {
      "text/html": [
       "<div>\n",
       "<style scoped>\n",
       "    .dataframe tbody tr th:only-of-type {\n",
       "        vertical-align: middle;\n",
       "    }\n",
       "\n",
       "    .dataframe tbody tr th {\n",
       "        vertical-align: top;\n",
       "    }\n",
       "\n",
       "    .dataframe thead th {\n",
       "        text-align: right;\n",
       "    }\n",
       "</style>\n",
       "<table border=\"1\" class=\"dataframe\">\n",
       "  <thead>\n",
       "    <tr style=\"text-align: right;\">\n",
       "      <th></th>\n",
       "      <th>release_year</th>\n",
       "    </tr>\n",
       "  </thead>\n",
       "  <tbody>\n",
       "    <tr>\n",
       "      <th>release_year</th>\n",
       "      <td>1.0</td>\n",
       "    </tr>\n",
       "  </tbody>\n",
       "</table>\n",
       "</div>"
      ],
      "text/plain": [
       "              release_year\n",
       "release_year           1.0"
      ]
     },
     "execution_count": 8,
     "metadata": {},
     "output_type": "execute_result"
    }
   ],
   "source": [
    "#relationship analysis\n",
    "#correlation analysis\n",
    "cor = dataset.corr()\n",
    "cor"
   ]
  },
  {
   "cell_type": "code",
   "execution_count": 9,
   "id": "aaf3e629-ecc8-4ca2-940c-889a3b8f3441",
   "metadata": {},
   "outputs": [
    {
     "data": {
      "text/plain": [
       "<AxesSubplot:>"
      ]
     },
     "execution_count": 9,
     "metadata": {},
     "output_type": "execute_result"
    },
    {
     "data": {
      "image/png": "[encoded data removed]",
      "text/plain": [
       "<Figure size 432x288 with 2 Axes>"
      ]
     },
     "metadata": {
      "needs_background": "light"
     },
     "output_type": "display_data"
    }
   ],
   "source": [
    "#plotting the correlation in the dataset\n",
    "sns.heatmap(cor, xticklabels = cor.columns, yticklabels = cor.columns, annot = True)"
   ]
  },
  {
   "cell_type": "code",
   "execution_count": 18,
   "id": "29035e62-98f7-4ff2-92c5-752571d448f5",
   "metadata": {},
   "outputs": [
    {
     "data": {
      "text/plain": [
       "<seaborn.axisgrid.PairGrid at 0x7fc19b7a4fd0>"
      ]
     },
     "execution_count": 18,
     "metadata": {},
     "output_type": "execute_result"
    },
    {
     "data": {
      "image/png": "[encoded data removed]",
      "text/plain": [
       "<Figure size 180x180 with 2 Axes>"
      ]
     },
     "metadata": {
      "needs_background": "light"
     },
     "output_type": "display_data"
    }
   ],
   "source": [
    "#visualization for seeing the correlation\n",
    "sns.pairplot(dataset)"
   ]
  },
  {
   "cell_type": "code",
   "execution_count": 19,
   "id": "470aed96-cee2-4288-87a4-2dbbc423e4f9",
   "metadata": {},
   "outputs": [
    {
     "data": {
      "image/png": "[encoded data removed]",
      "text/plain": [
       "<Figure size 432x288 with 1 Axes>"
      ]
     },
     "metadata": {
      "needs_background": "light"
     },
     "output_type": "display_data"
    }
   ],
   "source": [
    "sns.boxplot(data = dataset, x ='release_year' ,y='type')\n",
    "plt.xlabel('Release Year')\n",
    "plt.xlim(2008,2022)\n",
    "plt.savefig('Trend_over_year.jpg')\n",
    "plt.show()"
   ]
  },
  {
   "cell_type": "code",
   "execution_count": 20,
   "id": "90f6d7ff-052e-4b22-b846-a3c8ae9451d6",
   "metadata": {},
   "outputs": [
    {
     "data": {
      "image/png": "[encoded data removed]",
      "text/plain": [
       "<Figure size 432x288 with 1 Axes>"
      ]
     },
     "metadata": {},
     "output_type": "display_data"
    }
   ],
   "source": [
    "type_value_count = dataset['type'].value_counts(normalize=True)*100\n",
    "content_types = dataset['type'].unique()\n",
    "plt.pie(type_value_count,labels=content_types,autopct='%1.2f%%')\n",
    "plt.savefig('contribution.jpg')\n",
    "plt.show()"
   ]
  },
  {
   "cell_type": "code",
   "execution_count": 21,
   "id": "a1914906-8849-4667-ae00-5de8ec707496",
   "metadata": {},
   "outputs": [
    {
     "ename": "NameError",
     "evalue": "name 'bar_plot_data' is not defined",
     "output_type": "error",
     "traceback": [
      "\u001b[0;31m---------------------------------------------------------------------------\u001b[0m",
      "\u001b[0;31mNameError\u001b[0m                                 Traceback (most recent call last)",
      "\u001b[0;32m/tmp/ipykernel_122/4096954007.py\u001b[0m in \u001b[0;36m<module>\u001b[0;34m\u001b[0m\n\u001b[0;32m----> 1\u001b[0;31m \u001b[0mbar_plot_data\u001b[0m\u001b[0;34m(\u001b[0m\u001b[0mdataset\u001b[0m\u001b[0;34m,\u001b[0m \u001b[0;34m\"rating\"\u001b[0m\u001b[0;34m,\u001b[0m \u001b[0;34m\"Netflix movie ratings\"\u001b[0m\u001b[0;34m)\u001b[0m\u001b[0;34m\u001b[0m\u001b[0;34m\u001b[0m\u001b[0m\n\u001b[0m",
      "\u001b[0;31mNameError\u001b[0m: name 'bar_plot_data' is not defined"
     ]
    }
   ],
   "source": [
    "bar_plot_data(dataset, \"rating\", \"Netflix movie ratings\")"
   ]
  },
  {
   "cell_type": "code",
   "execution_count": null,
   "id": "355098ad-cabb-434e-aaa1-183624899dda",
   "metadata": {},
   "outputs": [],
   "source": [
    "dataset_filter = dataset[\"release_year\"].value_counts().rename_axis(\"release_year\").reset_index(name='count')\n",
    "bar_plot_data_v2(dataset_filter,  {\"y\": \"count\", \"x\": \"release_year\"}, \"Release year\", (22, 5), top_filter=1000, inverted_x=True)"
   ]
  },
  {
   "cell_type": "code",
   "execution_count": null,
   "id": "856a3766-f936-4d83-9733-d64a9453c2b6",
   "metadata": {},
   "outputs": [],
   "source": [
    "bar_plot_data(dataset, \"director\", \"Directors\")"
   ]
  },
  {
   "cell_type": "code",
   "execution_count": null,
   "id": "886e2fa5-ac08-4ac7-b589-8fb10a6efc57",
   "metadata": {},
   "outputs": [],
   "source": [
    "bar_plot_data(dataset, \"country\", \"Countries\")"
   ]
  },
  {
   "cell_type": "code",
   "execution_count": null,
   "id": "77cff8c6-cb99-4c20-ae54-c2964247b75a",
   "metadata": {},
   "outputs": [],
   "source": [
    "#Exploration\n",
    "#Total cases versus Active cases\n",
    "sns.relplot(x = 'country', y ='rating',hue = 'director', data = dataset)"
   ]
  },
  {
   "cell_type": "code",
   "execution_count": null,
   "id": "768b1b06-abc1-4284-92c5-9b40027122d0",
   "metadata": {},
   "outputs": [],
   "source": [
    "#Full dataset exploration\n",
    "dataset.style.background_gradient(cmap=\"Blues\")"
   ]
  },
  {
   "cell_type": "code",
   "execution_count": null,
   "id": "e67763aa-abef-4407-963c-0e494cc113e5",
   "metadata": {},
   "outputs": [],
   "source": [
    "#Visulaisation\n",
    "plt.figure(figsize=(17,6))\n",
    "plots = sns.barplot(x= dataset['country'],y= dataset['rating'])\n",
    "plt.xticks(rotation=90)\n",
    "for bar in plots.patches:\n",
    "    plots.annotate(format(bar.get_height(), '.2f'),\n",
    "                   (bar.get_x() + bar.get_width() / 2,\n",
    "                    bar.get_height()), ha='center', va='center',\n",
    "                   size=8, xytext=(0, 8),\n",
    "                   textcoords='offset points')"
   ]
  },
  {
   "cell_type": "code",
   "execution_count": null,
   "id": "750bddb5-971a-4af3-82a6-28c4dfc605b0",
   "metadata": {},
   "outputs": [],
   "source": [
    "#Distribution Plot\n",
    "total_rating= np.array(dataset['rating'])\n",
    "print(total_cases)\n",
    "\n",
    "sns.distplot(np.log(dataset['ratings']), kde=True)\n",
    "plt.title(\"Distribution of ratings\")\n",
    "plt.show"
   ]
  }
 ],
 "metadata": {
  "kernelspec": {
   "display_name": "Python 3 (ipykernel)",
   "language": "python",
   "name": "python3"
  },
  "language_info": {
   "codemirror_mode": {
    "name": "ipython",
    "version": 3
   },
   "file_extension": ".py",
   "mimetype": "text/x-python",
   "name": "python",
   "nbconvert_exporter": "python",
   "pygments_lexer": "ipython3",
   "version": "3.9.7"
  }
 },
 "nbformat": 4,
 "nbformat_minor": 5
}
